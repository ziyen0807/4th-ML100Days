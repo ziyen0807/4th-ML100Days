{
 "cells": [
  {
   "cell_type": "code",
   "execution_count": 1,
   "metadata": {},
   "outputs": [
    {
     "ename": "SyntaxError",
     "evalue": "invalid character in identifier (<ipython-input-1-ef6ad526987d>, line 2)",
     "output_type": "error",
     "traceback": [
      "\u001b[1;36m  File \u001b[1;32m\"<ipython-input-1-ef6ad526987d>\"\u001b[1;36m, line \u001b[1;32m2\u001b[0m\n\u001b[1;33m    重要：透過此筆資料可以分析哪個時間點預定旅館是能得到最優惠的價格及最高的回饋\u001b[0m\n\u001b[1;37m                                         ^\u001b[0m\n\u001b[1;31mSyntaxError\u001b[0m\u001b[1;31m:\u001b[0m invalid character in identifier\n"
     ]
    }
   ],
   "source": [
    "找的資料是旅館預定需求數據\n",
    "重要：透過此筆資料可以分析哪個時間點預定旅館是能得到最優惠的價格及最高的回饋\n",
    "資料來源：Jesse Mostipak\n",
    "資料型態：整數\n",
    "問題：透過評估各城市飯店每個月份的訂單量作分析\n",
    "\n",
    "如何提升業績：透過評估各時間及路段載客量，決定哪些時段能夠指派較多車去載客。\n",
    "資料從何而來：顧客的滿意度及問卷調查會影響對於問題的疑惑。\n",
    "如何驗證：透過實作並記錄，在經過數據統計可驗證"
   ]
  },
  {
   "cell_type": "code",
   "execution_count": null,
   "metadata": {},
   "outputs": [],
   "source": [
    "import numpy as np\n",
    "import matplotlib.pyplot as plt\n",
    "\n",
    "def mean_squared_error():"
   ]
  }
 ],
 "metadata": {
  "kernelspec": {
   "display_name": "Python 3",
   "language": "python",
   "name": "python3"
  },
  "language_info": {
   "codemirror_mode": {
    "name": "ipython",
    "version": 3
   },
   "file_extension": ".py",
   "mimetype": "text/x-python",
   "name": "python",
   "nbconvert_exporter": "python",
   "pygments_lexer": "ipython3",
   "version": "3.7.4"
  }
 },
 "nbformat": 4,
 "nbformat_minor": 2
}
