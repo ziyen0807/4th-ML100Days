{
 "cells": [
  {
   "cell_type": "markdown",
   "metadata": {},
   "source": [
    "## Work\n",
    "1. 請嘗試將 preproc_x 替換成以每筆資料的 min/max 進行標準化至 -1 ~ 1 間，再進行訓練\n",
    "2. 請嘗試將 mlp 疊更深 (e.g 5~10 層)，進行訓練後觀察 learning curve 的走勢\n",
    "3. (optional) 請改用 GPU 進行訓練 (如果你有 GPU 的話)，比較使用 CPU 與 GPU 的訓練速度"
   ]
  },
  {
   "cell_type": "code",
   "execution_count": 1,
   "metadata": {},
   "outputs": [
    {
     "data": {
      "text/plain": [
       "'\\nYour code here (optional)\\n確認硬體資源\\n'"
      ]
     },
     "execution_count": 1,
     "metadata": {},
     "output_type": "execute_result"
    }
   ],
   "source": [
    "## \n",
    "\"\"\"\n",
    "Your code here (optional)\n",
    "確認硬體資源\n",
    "\"\"\"\n"
   ]
  },
  {
   "cell_type": "code",
   "execution_count": 2,
   "metadata": {},
   "outputs": [
    {
     "name": "stderr",
     "output_type": "stream",
     "text": [
      "Using TensorFlow backend.\n"
     ]
    }
   ],
   "source": [
    "import os\n",
    "import keras\n",
    "\n",
    "# 請嘗試設定 GPU：os.environ\n",
    "os.environ['CUDA_VISIBLE_DEVICES'] = '0'"
   ]
  },
  {
   "cell_type": "code",
   "execution_count": 3,
   "metadata": {},
   "outputs": [],
   "source": [
    "train, test = keras.datasets.cifar10.load_data()"
   ]
  },
  {
   "cell_type": "code",
   "execution_count": 4,
   "metadata": {},
   "outputs": [],
   "source": [
    "## 資料前處理\n",
    "\"\"\"\n",
    "Your code here\n",
    "\"\"\"\n",
    "def preproc_x(x_train,flatten = True):\n",
    "    #x_train = (x_train - x_train.min()) / (x_train.max() - x_train.min())\n",
    "    #x_train = (x_train - x_train.mean()) / x_train.std()\n",
    "    x_train = 2*((x_train - x_train.min()) / (x_train.max() - x_train.min()))- 1\n",
    "    if flatten:\n",
    "        x_train = x_train.reshape(x_train.shape[0],-1)\n",
    "    return x_train\n",
    "\n",
    "def preproc_y(y_train):\n",
    "    y_train = keras.utils.to_categorical(y_train)\n",
    "    return y_train"
   ]
  },
  {
   "cell_type": "code",
   "execution_count": 5,
   "metadata": {},
   "outputs": [],
   "source": [
    "x_train, y_train = train\n",
    "x_test, y_test = test\n",
    "\n",
    "# Preproc the inputs\n",
    "x_train = preproc_x(x_train)\n",
    "x_test = preproc_x(x_test)\n",
    "\n",
    "# Preprc the outputs\n",
    "y_train = preproc_y(y_train)\n",
    "y_test = preproc_y(y_test)"
   ]
  },
  {
   "cell_type": "code",
   "execution_count": null,
   "metadata": {},
   "outputs": [],
   "source": []
  },
  {
   "cell_type": "code",
   "execution_count": 6,
   "metadata": {},
   "outputs": [
    {
     "name": "stdout",
     "output_type": "stream",
     "text": [
      "0\n",
      "1\n",
      "2\n",
      "3\n",
      "4\n",
      "5\n",
      "6\n",
      "Model: \"model_1\"\n",
      "_________________________________________________________________\n",
      "Layer (type)                 Output Shape              Param #   \n",
      "=================================================================\n",
      "input_1 (InputLayer)         (None, 3072)              0         \n",
      "_________________________________________________________________\n",
      "dense_1 (Dense)              (None, 1024)              3146752   \n",
      "_________________________________________________________________\n",
      "dense_2 (Dense)              (None, 512)               524800    \n",
      "_________________________________________________________________\n",
      "dense_3 (Dense)              (None, 256)               131328    \n",
      "_________________________________________________________________\n",
      "dense_4 (Dense)              (None, 128)               32896     \n",
      "_________________________________________________________________\n",
      "dense_5 (Dense)              (None, 64)                8256      \n",
      "_________________________________________________________________\n",
      "dense_6 (Dense)              (None, 32)                2080      \n",
      "_________________________________________________________________\n",
      "dense_7 (Dense)              (None, 16)                528       \n",
      "_________________________________________________________________\n",
      "dense_8 (Dense)              (None, 10)                170       \n",
      "=================================================================\n",
      "Total params: 3,846,810\n",
      "Trainable params: 3,846,810\n",
      "Non-trainable params: 0\n",
      "_________________________________________________________________\n"
     ]
    }
   ],
   "source": [
    "\"\"\"Code Here\n",
    "建立你的神經網路\n",
    "\"\"\"\n",
    "def build_mlp(nurons = [1024,512,256,128,64,32,16]):\n",
    "    input_layer = keras.layers.Input([x_train.shape[1]])\n",
    "    \n",
    "    for index,nuron in enumerate(nurons):\n",
    "        print(index)\n",
    "        if index == 0:\n",
    "            x = keras.layers.Dense(units = nuron,activation = 'relu')(input_layer)\n",
    "        else:\n",
    "            x = keras.layers.Dense(units = nuron,activation = 'relu')(x)\n",
    "            \n",
    "    output_layer = keras.layers.Dense(units = 10,activation = 'softmax')(x)\n",
    "        \n",
    "    model = keras.models.Model(inputs = [input_layer],outputs = [output_layer])\n",
    "    return  model\n",
    "model = build_mlp()     \n",
    "model.summary()"
   ]
  },
  {
   "cell_type": "code",
   "execution_count": 7,
   "metadata": {},
   "outputs": [],
   "source": [
    "## 超參數設定\n",
    "LEARNING_RATE = 0.001\n",
    "EPOCHS = 100\n",
    "BATCH_SIZE = 256"
   ]
  },
  {
   "cell_type": "code",
   "execution_count": 8,
   "metadata": {},
   "outputs": [],
   "source": [
    "optimizer = keras.optimizers.Adam(lr=LEARNING_RATE)\n",
    "model.compile(loss=\"categorical_crossentropy\", metrics=[\"accuracy\"], optimizer=optimizer)"
   ]
  },
  {
   "cell_type": "code",
   "execution_count": 9,
   "metadata": {},
   "outputs": [
    {
     "name": "stdout",
     "output_type": "stream",
     "text": [
      "Train on 50000 samples, validate on 10000 samples\n",
      "Epoch 1/100\n",
      "50000/50000 [==============================] - 8s 169us/step - loss: 1.8528 - accuracy: 0.3438 - val_loss: 1.6163 - val_accuracy: 0.4293\n",
      "Epoch 2/100\n",
      "50000/50000 [==============================] - 8s 155us/step - loss: 1.5575 - accuracy: 0.4543 - val_loss: 1.5258 - val_accuracy: 0.4532\n",
      "Epoch 3/100\n",
      "50000/50000 [==============================] - 9s 171us/step - loss: 1.4222 - accuracy: 0.5029 - val_loss: 1.4615 - val_accuracy: 0.4804\n",
      "Epoch 4/100\n",
      "50000/50000 [==============================] - 8s 159us/step - loss: 1.3210 - accuracy: 0.5341 - val_loss: 1.3938 - val_accuracy: 0.5110\n",
      "Epoch 5/100\n",
      "50000/50000 [==============================] - 8s 158us/step - loss: 1.2303 - accuracy: 0.5711 - val_loss: 1.3809 - val_accuracy: 0.5200\n",
      "Epoch 6/100\n",
      "50000/50000 [==============================] - 8s 163us/step - loss: 1.1375 - accuracy: 0.6014 - val_loss: 1.3987 - val_accuracy: 0.5173\n",
      "Epoch 7/100\n",
      "50000/50000 [==============================] - 8s 159us/step - loss: 1.0573 - accuracy: 0.6296 - val_loss: 1.3592 - val_accuracy: 0.5363\n",
      "Epoch 8/100\n",
      "50000/50000 [==============================] - 8s 160us/step - loss: 0.9783 - accuracy: 0.6546 - val_loss: 1.3982 - val_accuracy: 0.5286\n",
      "Epoch 9/100\n",
      "50000/50000 [==============================] - 8s 155us/step - loss: 0.8921 - accuracy: 0.6860 - val_loss: 1.4119 - val_accuracy: 0.5379\n",
      "Epoch 10/100\n",
      "50000/50000 [==============================] - 8s 156us/step - loss: 0.8176 - accuracy: 0.7108 - val_loss: 1.4494 - val_accuracy: 0.5464\n",
      "Epoch 11/100\n",
      "50000/50000 [==============================] - 8s 157us/step - loss: 0.7416 - accuracy: 0.7395 - val_loss: 1.5465 - val_accuracy: 0.5340\n",
      "Epoch 12/100\n",
      "50000/50000 [==============================] - 8s 157us/step - loss: 0.6606 - accuracy: 0.7664 - val_loss: 1.5978 - val_accuracy: 0.5408\n",
      "Epoch 13/100\n",
      "50000/50000 [==============================] - 8s 154us/step - loss: 0.6005 - accuracy: 0.7907 - val_loss: 1.6875 - val_accuracy: 0.5349\n",
      "Epoch 14/100\n",
      "50000/50000 [==============================] - 8s 154us/step - loss: 0.5356 - accuracy: 0.8115 - val_loss: 1.7422 - val_accuracy: 0.5365\n",
      "Epoch 15/100\n",
      "50000/50000 [==============================] - 8s 155us/step - loss: 0.4901 - accuracy: 0.8289 - val_loss: 1.8579 - val_accuracy: 0.5351\n",
      "Epoch 16/100\n",
      "50000/50000 [==============================] - 8s 154us/step - loss: 0.4338 - accuracy: 0.8487 - val_loss: 2.0229 - val_accuracy: 0.5389\n",
      "Epoch 17/100\n",
      "50000/50000 [==============================] - 8s 155us/step - loss: 0.3884 - accuracy: 0.8650 - val_loss: 2.0691 - val_accuracy: 0.5407\n",
      "Epoch 18/100\n",
      "50000/50000 [==============================] - 8s 156us/step - loss: 0.3577 - accuracy: 0.8756 - val_loss: 2.1609 - val_accuracy: 0.5349\n",
      "Epoch 19/100\n",
      "50000/50000 [==============================] - 8s 156us/step - loss: 0.3294 - accuracy: 0.8851 - val_loss: 2.3421 - val_accuracy: 0.5404\n",
      "Epoch 20/100\n",
      "50000/50000 [==============================] - 8s 154us/step - loss: 0.2904 - accuracy: 0.9009 - val_loss: 2.3718 - val_accuracy: 0.5442\n",
      "Epoch 21/100\n",
      "50000/50000 [==============================] - 8s 156us/step - loss: 0.2656 - accuracy: 0.9084 - val_loss: 2.5381 - val_accuracy: 0.5305\n",
      "Epoch 22/100\n",
      "50000/50000 [==============================] - 8s 155us/step - loss: 0.2556 - accuracy: 0.9140 - val_loss: 2.5027 - val_accuracy: 0.5344\n",
      "Epoch 23/100\n",
      "50000/50000 [==============================] - 8s 154us/step - loss: 0.2303 - accuracy: 0.9205 - val_loss: 2.6070 - val_accuracy: 0.5239\n",
      "Epoch 24/100\n",
      "50000/50000 [==============================] - 8s 154us/step - loss: 0.2185 - accuracy: 0.9255 - val_loss: 2.6794 - val_accuracy: 0.5395\n",
      "Epoch 25/100\n",
      "50000/50000 [==============================] - 8s 154us/step - loss: 0.2157 - accuracy: 0.9272 - val_loss: 2.7772 - val_accuracy: 0.5402\n",
      "Epoch 26/100\n",
      "50000/50000 [==============================] - 8s 156us/step - loss: 0.1932 - accuracy: 0.9347 - val_loss: 2.7690 - val_accuracy: 0.5397\n",
      "Epoch 27/100\n",
      "50000/50000 [==============================] - 8s 154us/step - loss: 0.1917 - accuracy: 0.9350 - val_loss: 2.9329 - val_accuracy: 0.5319\n",
      "Epoch 28/100\n",
      "50000/50000 [==============================] - 8s 154us/step - loss: 0.1870 - accuracy: 0.9382 - val_loss: 2.8674 - val_accuracy: 0.5393\n",
      "Epoch 29/100\n",
      "50000/50000 [==============================] - 8s 153us/step - loss: 0.1536 - accuracy: 0.9482 - val_loss: 2.9887 - val_accuracy: 0.5416\n",
      "Epoch 30/100\n",
      "50000/50000 [==============================] - 8s 156us/step - loss: 0.1471 - accuracy: 0.9512 - val_loss: 3.0746 - val_accuracy: 0.5406\n",
      "Epoch 31/100\n",
      "50000/50000 [==============================] - 8s 154us/step - loss: 0.1651 - accuracy: 0.9446 - val_loss: 2.9687 - val_accuracy: 0.5393\n",
      "Epoch 32/100\n",
      "50000/50000 [==============================] - 8s 153us/step - loss: 0.1444 - accuracy: 0.9515 - val_loss: 3.1742 - val_accuracy: 0.5406\n",
      "Epoch 33/100\n",
      "50000/50000 [==============================] - 8s 153us/step - loss: 0.1350 - accuracy: 0.9546 - val_loss: 3.2856 - val_accuracy: 0.5342\n",
      "Epoch 34/100\n",
      "50000/50000 [==============================] - 8s 155us/step - loss: 0.1494 - accuracy: 0.9501 - val_loss: 3.0352 - val_accuracy: 0.5370\n",
      "Epoch 35/100\n",
      "50000/50000 [==============================] - 8s 155us/step - loss: 0.1218 - accuracy: 0.9596 - val_loss: 3.2713 - val_accuracy: 0.5354\n",
      "Epoch 36/100\n",
      "50000/50000 [==============================] - 8s 154us/step - loss: 0.1326 - accuracy: 0.9567 - val_loss: 3.3213 - val_accuracy: 0.5414\n",
      "Epoch 37/100\n",
      "50000/50000 [==============================] - 8s 154us/step - loss: 0.1219 - accuracy: 0.9595 - val_loss: 3.2588 - val_accuracy: 0.5401\n",
      "Epoch 38/100\n",
      "50000/50000 [==============================] - 8s 153us/step - loss: 0.1183 - accuracy: 0.9612 - val_loss: 3.4500 - val_accuracy: 0.5420\n",
      "Epoch 39/100\n",
      "50000/50000 [==============================] - 8s 156us/step - loss: 0.1132 - accuracy: 0.9625 - val_loss: 3.4812 - val_accuracy: 0.5316\n",
      "Epoch 40/100\n",
      "50000/50000 [==============================] - 8s 154us/step - loss: 0.1231 - accuracy: 0.9601 - val_loss: 3.3125 - val_accuracy: 0.5408\n",
      "Epoch 41/100\n",
      "50000/50000 [==============================] - 8s 168us/step - loss: 0.1271 - accuracy: 0.9592 - val_loss: 3.0912 - val_accuracy: 0.5387\n",
      "Epoch 42/100\n",
      "50000/50000 [==============================] - 8s 162us/step - loss: 0.1066 - accuracy: 0.9659 - val_loss: 3.5740 - val_accuracy: 0.5460\n",
      "Epoch 43/100\n",
      "50000/50000 [==============================] - 8s 167us/step - loss: 0.0975 - accuracy: 0.9683 - val_loss: 3.3651 - val_accuracy: 0.5425\n",
      "Epoch 44/100\n",
      "50000/50000 [==============================] - 8s 169us/step - loss: 0.0886 - accuracy: 0.9711 - val_loss: 3.5114 - val_accuracy: 0.5475\n",
      "Epoch 45/100\n",
      "50000/50000 [==============================] - 9s 176us/step - loss: 0.1028 - accuracy: 0.9667 - val_loss: 3.3640 - val_accuracy: 0.5353\n",
      "Epoch 46/100\n",
      "50000/50000 [==============================] - 9s 173us/step - loss: 0.1057 - accuracy: 0.9659 - val_loss: 3.4267 - val_accuracy: 0.5485\n",
      "Epoch 47/100\n",
      "50000/50000 [==============================] - 8s 158us/step - loss: 0.0997 - accuracy: 0.9689 - val_loss: 3.2096 - val_accuracy: 0.5393\n",
      "Epoch 48/100\n",
      "50000/50000 [==============================] - 8s 163us/step - loss: 0.0880 - accuracy: 0.9712 - val_loss: 3.4903 - val_accuracy: 0.5375\n",
      "Epoch 49/100\n",
      "50000/50000 [==============================] - 8s 158us/step - loss: 0.0912 - accuracy: 0.9706 - val_loss: 3.4329 - val_accuracy: 0.5452\n",
      "Epoch 50/100\n",
      "50000/50000 [==============================] - 8s 162us/step - loss: 0.0901 - accuracy: 0.9715 - val_loss: 3.5478 - val_accuracy: 0.5398\n",
      "Epoch 51/100\n",
      "50000/50000 [==============================] - 8s 160us/step - loss: 0.1055 - accuracy: 0.9662 - val_loss: 3.3798 - val_accuracy: 0.5354\n",
      "Epoch 52/100\n",
      "50000/50000 [==============================] - 8s 161us/step - loss: 0.0759 - accuracy: 0.9745 - val_loss: 3.6418 - val_accuracy: 0.5424\n",
      "Epoch 53/100\n",
      "50000/50000 [==============================] - 8s 159us/step - loss: 0.0843 - accuracy: 0.9723 - val_loss: 3.4475 - val_accuracy: 0.5470\n",
      "Epoch 54/100\n",
      "50000/50000 [==============================] - 8s 157us/step - loss: 0.0975 - accuracy: 0.9685 - val_loss: 3.4747 - val_accuracy: 0.5400\n",
      "Epoch 55/100\n"
     ]
    },
    {
     "name": "stdout",
     "output_type": "stream",
     "text": [
      "50000/50000 [==============================] - 8s 157us/step - loss: 0.0855 - accuracy: 0.9726 - val_loss: 3.5272 - val_accuracy: 0.5391\n",
      "Epoch 56/100\n",
      "50000/50000 [==============================] - 9s 177us/step - loss: 0.0853 - accuracy: 0.9729 - val_loss: 3.4494 - val_accuracy: 0.5392\n",
      "Epoch 57/100\n",
      "50000/50000 [==============================] - 8s 161us/step - loss: 0.0789 - accuracy: 0.9757 - val_loss: 3.5846 - val_accuracy: 0.5464\n",
      "Epoch 58/100\n",
      "50000/50000 [==============================] - 8s 155us/step - loss: 0.0831 - accuracy: 0.9734 - val_loss: 3.5086 - val_accuracy: 0.5385\n",
      "Epoch 59/100\n",
      "50000/50000 [==============================] - 8s 168us/step - loss: 0.0727 - accuracy: 0.9766 - val_loss: 3.6883 - val_accuracy: 0.5374\n",
      "Epoch 60/100\n",
      "50000/50000 [==============================] - 8s 167us/step - loss: 0.0650 - accuracy: 0.9795 - val_loss: 3.7282 - val_accuracy: 0.5297\n",
      "Epoch 61/100\n",
      "50000/50000 [==============================] - 9s 174us/step - loss: 0.0777 - accuracy: 0.9756 - val_loss: 3.5864 - val_accuracy: 0.5385\n",
      "Epoch 62/100\n",
      "50000/50000 [==============================] - 8s 169us/step - loss: 0.0729 - accuracy: 0.9762 - val_loss: 3.7253 - val_accuracy: 0.5382\n",
      "Epoch 63/100\n",
      "50000/50000 [==============================] - 9s 172us/step - loss: 0.0853 - accuracy: 0.9731 - val_loss: 3.5007 - val_accuracy: 0.5422\n",
      "Epoch 64/100\n",
      "50000/50000 [==============================] - 9s 178us/step - loss: 0.0692 - accuracy: 0.9776 - val_loss: 3.7860 - val_accuracy: 0.5452\n",
      "Epoch 65/100\n",
      "50000/50000 [==============================] - 9s 177us/step - loss: 0.0719 - accuracy: 0.9777 - val_loss: 3.6162 - val_accuracy: 0.5469\n",
      "Epoch 66/100\n",
      "50000/50000 [==============================] - 9s 174us/step - loss: 0.0630 - accuracy: 0.9803 - val_loss: 3.6552 - val_accuracy: 0.5453\n",
      "Epoch 67/100\n",
      "50000/50000 [==============================] - 8s 169us/step - loss: 0.0750 - accuracy: 0.9764 - val_loss: 3.4720 - val_accuracy: 0.5429\n",
      "Epoch 68/100\n",
      "50000/50000 [==============================] - 9s 172us/step - loss: 0.0648 - accuracy: 0.9795 - val_loss: 3.5691 - val_accuracy: 0.5405\n",
      "Epoch 69/100\n",
      "50000/50000 [==============================] - 9s 171us/step - loss: 0.0635 - accuracy: 0.9798 - val_loss: 3.8013 - val_accuracy: 0.5471\n",
      "Epoch 70/100\n",
      "50000/50000 [==============================] - 8s 165us/step - loss: 0.0710 - accuracy: 0.9781 - val_loss: 3.6851 - val_accuracy: 0.5445\n",
      "Epoch 71/100\n",
      "50000/50000 [==============================] - 8s 169us/step - loss: 0.0596 - accuracy: 0.9810 - val_loss: 3.7042 - val_accuracy: 0.5473\n",
      "Epoch 72/100\n",
      "50000/50000 [==============================] - 9s 176us/step - loss: 0.0754 - accuracy: 0.9760 - val_loss: 3.5616 - val_accuracy: 0.5458\n",
      "Epoch 73/100\n",
      "50000/50000 [==============================] - 8s 167us/step - loss: 0.0599 - accuracy: 0.9811 - val_loss: 3.7254 - val_accuracy: 0.5429\n",
      "Epoch 74/100\n",
      "50000/50000 [==============================] - 8s 163us/step - loss: 0.0733 - accuracy: 0.9781 - val_loss: 3.4956 - val_accuracy: 0.5446\n",
      "Epoch 75/100\n",
      "50000/50000 [==============================] - 9s 172us/step - loss: 0.0538 - accuracy: 0.9836 - val_loss: 3.6639 - val_accuracy: 0.5365\n",
      "Epoch 76/100\n",
      "50000/50000 [==============================] - 8s 164us/step - loss: 0.0659 - accuracy: 0.9796 - val_loss: 3.5399 - val_accuracy: 0.5446\n",
      "Epoch 77/100\n",
      "50000/50000 [==============================] - 8s 168us/step - loss: 0.0664 - accuracy: 0.9795 - val_loss: 3.6395 - val_accuracy: 0.5409\n",
      "Epoch 78/100\n",
      "50000/50000 [==============================] - 9s 176us/step - loss: 0.0423 - accuracy: 0.9872 - val_loss: 3.8558 - val_accuracy: 0.5458\n",
      "Epoch 79/100\n",
      "50000/50000 [==============================] - 9s 176us/step - loss: 0.0644 - accuracy: 0.9794 - val_loss: 3.6226 - val_accuracy: 0.5418\n",
      "Epoch 80/100\n",
      "50000/50000 [==============================] - 9s 171us/step - loss: 0.0697 - accuracy: 0.9785 - val_loss: 3.7439 - val_accuracy: 0.5468\n",
      "Epoch 81/100\n",
      "50000/50000 [==============================] - 9s 173us/step - loss: 0.0580 - accuracy: 0.9820 - val_loss: 3.5864 - val_accuracy: 0.5443\n",
      "Epoch 82/100\n",
      "50000/50000 [==============================] - 8s 167us/step - loss: 0.0602 - accuracy: 0.9815 - val_loss: 3.7370 - val_accuracy: 0.5419\n",
      "Epoch 83/100\n",
      "50000/50000 [==============================] - 8s 166us/step - loss: 0.0588 - accuracy: 0.9817 - val_loss: 3.6988 - val_accuracy: 0.5456\n",
      "Epoch 84/100\n",
      "50000/50000 [==============================] - 8s 162us/step - loss: 0.0531 - accuracy: 0.9834 - val_loss: 3.7392 - val_accuracy: 0.5388\n",
      "Epoch 85/100\n",
      "50000/50000 [==============================] - 8s 166us/step - loss: 0.0603 - accuracy: 0.9827 - val_loss: 3.4725 - val_accuracy: 0.5403\n",
      "Epoch 86/100\n",
      "50000/50000 [==============================] - 9s 176us/step - loss: 0.0600 - accuracy: 0.9812 - val_loss: 3.7046 - val_accuracy: 0.5442\n",
      "Epoch 87/100\n",
      "50000/50000 [==============================] - 9s 177us/step - loss: 0.0515 - accuracy: 0.9840 - val_loss: 3.5682 - val_accuracy: 0.5437\n",
      "Epoch 88/100\n",
      "50000/50000 [==============================] - 9s 170us/step - loss: 0.0556 - accuracy: 0.9830 - val_loss: 3.6879 - val_accuracy: 0.5479\n",
      "Epoch 89/100\n",
      "50000/50000 [==============================] - 9s 174us/step - loss: 0.0473 - accuracy: 0.9853 - val_loss: 3.9152 - val_accuracy: 0.5430\n",
      "Epoch 90/100\n",
      "50000/50000 [==============================] - 8s 166us/step - loss: 0.0557 - accuracy: 0.9825 - val_loss: 3.6556 - val_accuracy: 0.5403\n",
      "Epoch 91/100\n",
      "50000/50000 [==============================] - 8s 165us/step - loss: 0.0558 - accuracy: 0.9824 - val_loss: 3.7190 - val_accuracy: 0.5421\n",
      "Epoch 92/100\n",
      "50000/50000 [==============================] - 8s 162us/step - loss: 0.0602 - accuracy: 0.9824 - val_loss: 3.5730 - val_accuracy: 0.5424\n",
      "Epoch 93/100\n",
      "50000/50000 [==============================] - 8s 168us/step - loss: 0.0475 - accuracy: 0.9857 - val_loss: 3.6336 - val_accuracy: 0.5502\n",
      "Epoch 94/100\n",
      "50000/50000 [==============================] - 8s 166us/step - loss: 0.0614 - accuracy: 0.9814 - val_loss: 3.7335 - val_accuracy: 0.5459\n",
      "Epoch 95/100\n",
      "50000/50000 [==============================] - 9s 184us/step - loss: 0.0451 - accuracy: 0.9856 - val_loss: 3.9331 - val_accuracy: 0.5491\n",
      "Epoch 96/100\n",
      "50000/50000 [==============================] - 9s 182us/step - loss: 0.0458 - accuracy: 0.9859 - val_loss: 3.7975 - val_accuracy: 0.5484\n",
      "Epoch 97/100\n",
      "50000/50000 [==============================] - 8s 162us/step - loss: 0.0437 - accuracy: 0.9868 - val_loss: 3.7525 - val_accuracy: 0.5430\n",
      "Epoch 98/100\n",
      "50000/50000 [==============================] - 8s 165us/step - loss: 0.0548 - accuracy: 0.9836 - val_loss: 3.4778 - val_accuracy: 0.5458\n",
      "Epoch 99/100\n",
      "50000/50000 [==============================] - 9s 181us/step - loss: 0.0454 - accuracy: 0.9863 - val_loss: 3.9251 - val_accuracy: 0.5460\n",
      "Epoch 100/100\n",
      "50000/50000 [==============================] - 8s 154us/step - loss: 0.0411 - accuracy: 0.9876 - val_loss: 3.9712 - val_accuracy: 0.5470\n"
     ]
    },
    {
     "data": {
      "text/plain": [
       "<keras.callbacks.callbacks.History at 0x1e7d49ccb70>"
      ]
     },
     "execution_count": 9,
     "metadata": {},
     "output_type": "execute_result"
    }
   ],
   "source": [
    "model.fit(x_train, y_train, \n",
    "          epochs=EPOCHS, \n",
    "          batch_size=BATCH_SIZE, \n",
    "          validation_data=(x_test, y_test), \n",
    "          shuffle=True)"
   ]
  },
  {
   "cell_type": "code",
   "execution_count": 11,
   "metadata": {},
   "outputs": [
    {
     "data": {
      "image/png": "[encoded data removed]",
      "text/plain": [
       "<Figure size 432x288 with 1 Axes>"
      ]
     },
     "metadata": {
      "needs_background": "light"
     },
     "output_type": "display_data"
    },
    {
     "data": {
      "image/png": "[encoded data removed]",
      "text/plain": [
       "<Figure size 432x288 with 1 Axes>"
      ]
     },
     "metadata": {
      "needs_background": "light"
     },
     "output_type": "display_data"
    }
   ],
   "source": [
    "import matplotlib.pyplot as plt\n",
    "\n",
    "\n",
    "train_loss = model.history.history[\"loss\"]\n",
    "valid_loss = model.history.history[\"val_loss\"]\n",
    "\n",
    "train_acc = model.history.history[\"accuracy\"]\n",
    "valid_acc = model.history.history[\"val_accuracy\"]\n",
    "\n",
    "plt.plot(range(len(train_loss)), train_loss, label=\"train loss\")\n",
    "plt.plot(range(len(valid_loss)), valid_loss, label=\"valid loss\")\n",
    "plt.legend()\n",
    "plt.title(\"Loss\")\n",
    "plt.show()\n",
    "\n",
    "plt.plot(range(len(train_acc)), train_acc, label=\"train accuracy\")\n",
    "plt.plot(range(len(valid_acc)), valid_acc, label=\"valid accuracy\")\n",
    "plt.legend()\n",
    "plt.title(\"Accuracy\")\n",
    "plt.show()"
   ]
  }
 ],
 "metadata": {
  "kernelspec": {
   "display_name": "Python 3",
   "language": "python",
   "name": "python3"
  },
  "language_info": {
   "codemirror_mode": {
    "name": "ipython",
    "version": 3
   },
   "file_extension": ".py",
   "mimetype": "text/x-python",
   "name": "python",
   "nbconvert_exporter": "python",
   "pygments_lexer": "ipython3",
   "version": "3.6.10"
  }
 },
 "nbformat": 4,
 "nbformat_minor": 2
}
