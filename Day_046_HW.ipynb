{
 "cells": [
  {
   "cell_type": "markdown",
   "metadata": {},
   "source": [
    "### 作業\n",
    "目前已經學過許多的模型，相信大家對整體流程應該比較掌握了，這次作業請改用**手寫辨識資料集**，步驟流程都是一樣的，請試著自己撰寫程式碼來完成所有步驟"
   ]
  },
  {
   "cell_type": "code",
   "execution_count": 1,
   "metadata": {},
   "outputs": [],
   "source": [
    "from sklearn import datasets, metrics\n",
    "digits = datasets.load_digits()"
   ]
  },
  {
   "cell_type": "code",
   "execution_count": null,
   "metadata": {},
   "outputs": [],
   "source": []
  },
  {
   "cell_type": "code",
   "execution_count": 119,
   "metadata": {},
   "outputs": [
    {
     "name": "stdout",
     "output_type": "stream",
     "text": [
      "[1 5 0 7 1 0 6 1 5 4 9 2 7 8 4 8 9 3 7 4 7 1 8 6 0 9 6 1 3 7 5 9 8 3 2 8 8\n",
      " 1 1 0 7 9 0 0 8 7 2 7 4 3 4 3 4 0 4 7 0 5 5 5 2 1 7 0 5 1 8 3 3 4 0 3 7 4\n",
      " 3 0 2 9 7 3 2 5 3 4 1 5 5 2 5 2 2 2 2 7 0 8 1 7 4 2 3 8 2 3 3 0 2 5 5 2 3\n",
      " 2 8 1 1 9 1 2 0 4 8 5 4 4 7 6 7 6 6 1 7 5 6 3 8 3 7 1 8 5 3 4 7 8 5 0 6 0\n",
      " 6 3 7 6 5 6 2 2 2 3 0 7 6 5 6 4 9 0 6 0 6 4 0 9 8 8 1 2 3 1 9 0 7 6 2 9 3\n",
      " 5 3 4 6 3 3 7 4 9 2 7 6 1 6 8 4 0 3 1 0 9 9 9 4 1 8 6 8 0 9 5 9 8 2 3 5 3\n",
      " 0 8 7 7 0 3 3 3 6 3 3 2 9 1 6 9 0 4 2 2 7 9 1 6 7 6 1 9 1 0 3 4 0 6 4 8 5\n",
      " 3 6 3 1 4 0 4 4 8 7 9 1 5 2 7 0 9 0 4 4 0 1 8 6 4 2 8 5 0 2 6 0 1 8 2 0 9\n",
      " 5 6 2 0 5 0 9 1 4 7 1 7 0 6 6 8 0 2 2 6 9 9 7 5 1 7 6 4 6 1 9 4 7 1 3 7 8\n",
      " 1 6 9 8 3 2 4 8 7 5 5 6 9 9 9 5 0 0 4 9 3 0 4 9 4 2 5 4 9 6 4 2 6 0 0 5 6\n",
      " 7 1 9 2 5 1 5 9 8 7 7 0 6 9 3 1 9 3 9 8 7 0 2 3 9 9 2 8 1 9 8 3 0 0 7 3 8\n",
      " 7 9 9 7 1 0 4 5 4 1 7 3 6 5 4 9 8 5 9 5 4 5 0 4 3 4 2 7 9 0 8 7 8 1 9 4 5\n",
      " 7 8 3 7 8 5 2 6 6 7 1 0 8 4 8 9 5 4 5 2 5 3 3 3 5 1 8 7 6 2 3 6 2 5 2 6 4\n",
      " 5 4 4 9 7 9 5 0 2 6 9 3 6 7 3 6 4 7 8 4 1 8 1 1 0 7 3 0 3 2 9 4 5 9 5 4 8\n",
      " 3 3 3 8 4 8 4 5 8 3 9 5 4 7 7 4 1 1 7 1 8 0 9 6 0 9 8 1 3 1 4 6 5 1 9 0 1\n",
      " 5 2 5 0 2 5 4 7 2 2 3 2 1 8 4 9 6 3 7 1 1 9 8 8 1 8 5 9 1 7 1 2 7 9 7 4 8\n",
      " 4 0]\n",
      "accuracy_score = 0.9545454545454546\n"
     ]
    }
   ],
   "source": [
    "import pandas as pd\n",
    "from sklearn.model_selection import train_test_split\n",
    "from sklearn.ensemble import GradientBoostingClassifier\n",
    "\n",
    "df = pd.DataFrame(data = digits.data, columns = digits.feature_names)\n",
    "df.head()\n",
    "\n",
    "x_train,x_test,y_train,y_test = train_test_split(digits.data,digits.target,test_size = .33,random_state = 1)\n",
    "clf = GradientBoostingClassifier()\n",
    "clf.fit(x_train,y_train)\n",
    "predict_y = clf.predict(x_test)\n",
    "print(predict_y)\n",
    "\n",
    "print(f\"accuracy_score = {metrics.accuracy_score(predict_y,y_test)}\")"
   ]
  },
  {
   "cell_type": "code",
   "execution_count": 140,
   "metadata": {},
   "outputs": [
    {
     "data": {
      "text/plain": [
       "(899, 8, 8)"
      ]
     },
     "execution_count": 140,
     "metadata": {},
     "output_type": "execute_result"
    }
   ],
   "source": [
    "n_samples = len(digits.images)\n",
    "#digits.images.reshape(len(digits.images),-1).shape\n",
    "digits.images[n_samples // 2:].shape\n",
    "\n"
   ]
  },
  {
   "cell_type": "code",
   "execution_count": 142,
   "metadata": {},
   "outputs": [
    {
     "data": {
      "image/png": "[encoded data removed]",
      "text/plain": [
       "<Figure size 432x288 with 16 Axes>"
      ]
     },
     "metadata": {
      "needs_background": "light"
     },
     "output_type": "display_data"
    }
   ],
   "source": [
    "import matplotlib.pyplot as plt\n",
    "\n",
    "_, axes = plt.subplots(2, 8)\n",
    "images_and_labels = list(zip(digits.images[n_samples // 2:],predict_y))\n",
    "for ax, (image, label) in zip(axes[0, :], images_and_labels[:8]):\n",
    "    ax.set_axis_off()\n",
    "    ax.imshow(image, cmap=plt.cm.gray_r, interpolation='nearest')\n",
    "    ax.set_title('%i' % label)"
   ]
  },
  {
   "cell_type": "code",
   "execution_count": 115,
   "metadata": {},
   "outputs": [
    {
     "data": {
      "image/png": "[encoded data removed]",
      "text/plain": [
       "<Figure size 432x288 with 40 Axes>"
      ]
     },
     "metadata": {
      "needs_background": "light"
     },
     "output_type": "display_data"
    }
   ],
   "source": [
    "_,axes = plt.subplots(2,20)\n",
    "Image = digits.images[:20]\n",
    "for ax,img,label in zip(axes[0,:],Image,digits.target):\n",
    "    ax.set_axis_off()\n",
    "    ax.imshow(img,cmap = plt.cm.gray_r, interpolation = 'nearest')\n",
    "    ax.set_title(label)"
   ]
  },
  {
   "cell_type": "code",
   "execution_count": 106,
   "metadata": {},
   "outputs": [
    {
     "data": {
      "text/plain": [
       "array([0, 1, 2, 3, 4, 5, 6, 7, 8, 9, 0, 1, 2, 3, 4, 5, 6, 7, 8, 9, 0, 1,\n",
       "       2, 3, 4, 5, 6, 7, 8, 9])"
      ]
     },
     "execution_count": 106,
     "metadata": {},
     "output_type": "execute_result"
    }
   ],
   "source": []
  }
 ],
 "metadata": {
  "kernelspec": {
   "display_name": "Python 3",
   "language": "python",
   "name": "python3"
  },
  "language_info": {
   "codemirror_mode": {
    "name": "ipython",
    "version": 3
   },
   "file_extension": ".py",
   "mimetype": "text/x-python",
   "name": "python",
   "nbconvert_exporter": "python",
   "pygments_lexer": "ipython3",
   "version": "3.8.5"
  }
 },
 "nbformat": 4,
 "nbformat_minor": 2
}
