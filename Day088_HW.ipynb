{
 "cells": [
  {
   "cell_type": "markdown",
   "metadata": {},
   "source": [
    "## Work\n",
    "1. 請嘗試寫一個 callback 用來記錄各類別在訓練過程中，對驗證集的 True Positive 與 True Negative"
   ]
  },
  {
   "cell_type": "code",
   "execution_count": 1,
   "metadata": {},
   "outputs": [
    {
     "name": "stderr",
     "output_type": "stream",
     "text": [
      "Using TensorFlow backend.\n"
     ]
    }
   ],
   "source": [
    "import os\n",
    "import keras\n",
    "\n",
    "# Disable GPU\n",
    "os.environ[\"CUDA_VISIBLE_DEVICES\"] = \"\""
   ]
  },
  {
   "cell_type": "code",
   "execution_count": 2,
   "metadata": {},
   "outputs": [],
   "source": [
    "train, test = keras.datasets.cifar10.load_data()"
   ]
  },
  {
   "cell_type": "code",
   "execution_count": 3,
   "metadata": {},
   "outputs": [],
   "source": [
    "## 資料前處理\n",
    "def preproc_x(x, flatten=True):\n",
    "    x = x / 255.\n",
    "    if flatten:\n",
    "        x = x.reshape((len(x), -1))\n",
    "    return x\n",
    "\n",
    "def preproc_y(y, num_classes=10):\n",
    "    if y.shape[-1] == 1:\n",
    "        y = keras.utils.to_categorical(y, num_classes)\n",
    "    return y    "
   ]
  },
  {
   "cell_type": "code",
   "execution_count": 4,
   "metadata": {},
   "outputs": [],
   "source": [
    "x_train, y_train = train\n",
    "x_test, y_test = test\n",
    "\n",
    "# Preproc the inputs\n",
    "x_train = preproc_x(x_train)\n",
    "x_test = preproc_x(x_test)\n",
    "\n",
    "# Preprc the outputs\n",
    "y_train = preproc_y(y_train)\n",
    "y_test = preproc_y(y_test)"
   ]
  },
  {
   "cell_type": "code",
   "execution_count": 5,
   "metadata": {},
   "outputs": [],
   "source": [
    "from keras.layers import BatchNormalization\n",
    "def build_mlp(input_shape, output_units=10, num_neurons=[256, 256, 256]):\n",
    "    input_layer = keras.layers.Input([x_train.shape[-1]])\n",
    "    \n",
    "    for index,neuron in enumerate(num_neurons):\n",
    "        if(index == 0):\n",
    "            x = keras.layers.Dense(units = neuron,activation = 'relu')(input_layer)\n",
    "        else:\n",
    "            x = keras.layers.Dense(units = neuron,activation = 'relu')(x)\n",
    "        x = BatchNormalization()(x)\n",
    "    output_layer = keras.layers.Dense(units = output_units,activation = 'softmax')(x)\n",
    "    model = keras.models.Model(inputs = [input_layer],outputs = [output_layer])\n",
    "    \n",
    "    return model"
   ]
  },
  {
   "cell_type": "code",
   "execution_count": 6,
   "metadata": {},
   "outputs": [],
   "source": [
    "## 超參數設定\n",
    "LEARNING_RATE = 1e-3\n",
    "EPOCHS = 25\n",
    "BATCH_SIZE = 1024\n",
    "MOMENTUM = 0.95"
   ]
  },
  {
   "cell_type": "code",
   "execution_count": 10,
   "metadata": {},
   "outputs": [],
   "source": [
    "# 載入 Callbacks\n",
    "from keras.callbacks import Callback\n",
    "import numpy as np\n",
    "# Record_fp_tp\n",
    "class Record_tp_tn(Callback):\n",
    "    \n",
    "    def __init__(self,val_data):\n",
    "        self.val_data = val_data\n",
    "    \"\"\"Code Here\n",
    "    撰寫一個紀錄 ture positive(分類為TRUE且正確的數量 = validation_set.) 與 true negative(分類為False且正確的數量) 數量的 callbacks \n",
    "    ?? f1_score 只能拿來計算binary classification不是嗎\n",
    "    \"\"\"\n",
    "    \n",
    "    def on_train_begin(self,epoch,logs = {}):\n",
    "        if('metrics' in self.params):\n",
    "            if('f1_score' not in self.params['metrics']):\n",
    "                self.params['metrics'].append('val_f1_score')\n",
    "            \n",
    "    def on_epoch_end(self,epoch,logs = {}):\n",
    "        logs = logs or {}\n",
    "        y_true = self.val_data[1]\n",
    "        y_pred = self.model.predict(self.val_data[0])\n",
    "        \n",
    "        #true_positive = y_pred[np.where(y_pred[np.where(y_true == 1)] == 1)]\n",
    "        #print(len(true_positive))\n",
    "        \n",
    "        #true_negative = y_pred[np.where(y_pred[np.where(y_true == 0)] == 0)]\n",
    "        #print(len(true_negative))\n",
    "        \n",
    "        #logs['val_true_positive'] = len(true_positive)\n",
    "        #logs['val_true_negative'] = len(true_negative)\n",
    "        logs['val_true_positive'] = 0\n",
    "        logs['val_true_negative'] = 0\n",
    "        #true_positive = (y_pred[y_true == 1] == 1)\n",
    "rec_tptn = Record_tp_tn((x_test,y_test))"
   ]
  },
  {
   "cell_type": "code",
   "execution_count": 11,
   "metadata": {
    "scrolled": true
   },
   "outputs": [
    {
     "name": "stdout",
     "output_type": "stream",
     "text": [
      "Model: \"model_2\"\n",
      "_________________________________________________________________\n",
      "Layer (type)                 Output Shape              Param #   \n",
      "=================================================================\n",
      "input_2 (InputLayer)         (None, 3072)              0         \n",
      "_________________________________________________________________\n",
      "dense_5 (Dense)              (None, 256)               786688    \n",
      "_________________________________________________________________\n",
      "batch_normalization_4 (Batch (None, 256)               1024      \n",
      "_________________________________________________________________\n",
      "dense_6 (Dense)              (None, 256)               65792     \n",
      "_________________________________________________________________\n",
      "batch_normalization_5 (Batch (None, 256)               1024      \n",
      "_________________________________________________________________\n",
      "dense_7 (Dense)              (None, 256)               65792     \n",
      "_________________________________________________________________\n",
      "batch_normalization_6 (Batch (None, 256)               1024      \n",
      "_________________________________________________________________\n",
      "dense_8 (Dense)              (None, 10)                2570      \n",
      "=================================================================\n",
      "Total params: 923,914\n",
      "Trainable params: 922,378\n",
      "Non-trainable params: 1,536\n",
      "_________________________________________________________________\n",
      "Train on 50000 samples, validate on 10000 samples\n",
      "Epoch 1/25\n",
      "50000/50000 [==============================] - 3s 67us/step - loss: 2.2519 - accuracy: 0.2598 - val_loss: 2.1806 - val_accuracy: 0.1658\n",
      "Epoch 2/25\n",
      "50000/50000 [==============================] - 3s 58us/step - loss: 1.7619 - accuracy: 0.3873 - val_loss: 2.0024 - val_accuracy: 0.2809\n",
      "Epoch 3/25\n",
      "50000/50000 [==============================] - 3s 56us/step - loss: 1.6312 - accuracy: 0.4274 - val_loss: 1.8445 - val_accuracy: 0.3605\n",
      "Epoch 4/25\n",
      "50000/50000 [==============================] - 3s 58us/step - loss: 1.5584 - accuracy: 0.4534 - val_loss: 1.7083 - val_accuracy: 0.4117\n",
      "Epoch 5/25\n",
      "50000/50000 [==============================] - 3s 62us/step - loss: 1.5053 - accuracy: 0.4714 - val_loss: 1.6174 - val_accuracy: 0.4398\n",
      "Epoch 6/25\n",
      "50000/50000 [==============================] - 3s 55us/step - loss: 1.4610 - accuracy: 0.4891 - val_loss: 1.5768 - val_accuracy: 0.4434\n",
      "Epoch 7/25\n",
      "50000/50000 [==============================] - 3s 64us/step - loss: 1.4233 - accuracy: 0.5044 - val_loss: 1.5415 - val_accuracy: 0.4569\n",
      "Epoch 8/25\n",
      "50000/50000 [==============================] - 3s 55us/step - loss: 1.3909 - accuracy: 0.5169 - val_loss: 1.5194 - val_accuracy: 0.4668\n",
      "Epoch 9/25\n",
      "50000/50000 [==============================] - 3s 64us/step - loss: 1.3606 - accuracy: 0.5269 - val_loss: 1.4975 - val_accuracy: 0.4732\n",
      "Epoch 10/25\n",
      "50000/50000 [==============================] - 3s 55us/step - loss: 1.3331 - accuracy: 0.5366 - val_loss: 1.4937 - val_accuracy: 0.4733\n",
      "Epoch 11/25\n",
      "50000/50000 [==============================] - 3s 61us/step - loss: 1.3091 - accuracy: 0.5435 - val_loss: 1.4832 - val_accuracy: 0.4758\n",
      "Epoch 12/25\n",
      "50000/50000 [==============================] - 2s 48us/step - loss: 1.2851 - accuracy: 0.5525 - val_loss: 1.4936 - val_accuracy: 0.4707\n",
      "Epoch 13/25\n",
      "50000/50000 [==============================] - 3s 51us/step - loss: 1.2632 - accuracy: 0.5613 - val_loss: 1.4719 - val_accuracy: 0.4861\n",
      "Epoch 14/25\n",
      "50000/50000 [==============================] - 2s 47us/step - loss: 1.2396 - accuracy: 0.5712 - val_loss: 1.4651 - val_accuracy: 0.4886\n",
      "Epoch 15/25\n",
      "50000/50000 [==============================] - 2s 48us/step - loss: 1.2206 - accuracy: 0.5782 - val_loss: 1.4604 - val_accuracy: 0.4913\n",
      "Epoch 16/25\n",
      "50000/50000 [==============================] - 3s 60us/step - loss: 1.1995 - accuracy: 0.5876 - val_loss: 1.4710 - val_accuracy: 0.4874\n",
      "Epoch 17/25\n",
      "50000/50000 [==============================] - 3s 62us/step - loss: 1.1804 - accuracy: 0.5944 - val_loss: 1.4522 - val_accuracy: 0.4913\n",
      "Epoch 18/25\n",
      "50000/50000 [==============================] - 3s 55us/step - loss: 1.1606 - accuracy: 0.5994 - val_loss: 1.4548 - val_accuracy: 0.4893\n",
      "Epoch 19/25\n",
      "50000/50000 [==============================] - 2s 47us/step - loss: 1.1430 - accuracy: 0.6052 - val_loss: 1.4592 - val_accuracy: 0.4921\n",
      "Epoch 20/25\n",
      "50000/50000 [==============================] - 2s 48us/step - loss: 1.1250 - accuracy: 0.6128 - val_loss: 1.4607 - val_accuracy: 0.4884\n",
      "Epoch 21/25\n",
      "50000/50000 [==============================] - 3s 53us/step - loss: 1.1077 - accuracy: 0.6210 - val_loss: 1.4479 - val_accuracy: 0.4958\n",
      "Epoch 22/25\n",
      "50000/50000 [==============================] - 2s 47us/step - loss: 1.0899 - accuracy: 0.6264 - val_loss: 1.4495 - val_accuracy: 0.4962\n",
      "Epoch 23/25\n",
      "50000/50000 [==============================] - 2s 47us/step - loss: 1.0747 - accuracy: 0.6322 - val_loss: 1.4566 - val_accuracy: 0.4893\n",
      "Epoch 24/25\n",
      "50000/50000 [==============================] - 3s 60us/step - loss: 1.0571 - accuracy: 0.6389 - val_loss: 1.4626 - val_accuracy: 0.4896\n",
      "Epoch 25/25\n",
      "50000/50000 [==============================] - 2s 48us/step - loss: 1.0412 - accuracy: 0.6462 - val_loss: 1.4470 - val_accuracy: 0.4990\n"
     ]
    }
   ],
   "source": [
    "model = build_mlp(input_shape=x_train.shape[1:])\n",
    "model.summary()\n",
    "optimizer = keras.optimizers.SGD(lr=LEARNING_RATE, nesterov=True, momentum=MOMENTUM)\n",
    "model.compile(loss=\"categorical_crossentropy\", metrics=[\"accuracy\"], optimizer=optimizer)\n",
    "\n",
    "\"\"\"Code Here\n",
    "將 callbacks 放入模型訓練流程中\n",
    "\"\"\"\n",
    "model.fit(x_train,y_train,\n",
    "         epochs = EPOCHS,\n",
    "         batch_size = BATCH_SIZE,\n",
    "         validation_data = (x_test,y_test),\n",
    "         shuffle = True,\n",
    "         callbacks = [rec_tptn])\n",
    "\n",
    "# Collect results\n",
    "train_loss = model.history.history[\"loss\"]\n",
    "valid_loss = model.history.history[\"val_loss\"]\n",
    "train_acc = model.history.history[\"accuracy\"]\n",
    "valid_acc = model.history.history[\"val_accuracy\"]\n",
    "\n",
    "\"\"\"Code Here\n",
    "將 tp/tn 從訓練完的模型中取出\n",
    "\"\"\"\n",
    "valid_tp = model.history.history['val_true_positive']\n",
    "valid_tn = model.history.history['val_true_negative']"
   ]
  },
  {
   "cell_type": "code",
   "execution_count": null,
   "metadata": {},
   "outputs": [],
   "source": [
    "import matplotlib.pyplot as plt\n",
    "%matplotlib inline\n",
    "\n",
    "plt.plot(range(len(train_loss)), train_loss, label=\"train loss\")\n",
    "plt.plot(range(len(valid_loss)), valid_loss, label=\"valid loss\")\n",
    "plt.legend()\n",
    "plt.title(\"Loss\")\n",
    "plt.show()\n",
    "\n",
    "plt.plot(range(len(train_acc)), train_acc, label=\"train accuracy\")\n",
    "plt.plot(range(len(valid_acc)), valid_acc, label=\"valid accuracy\")\n",
    "plt.legend()\n",
    "plt.title(\"Accuracy\")\n",
    "plt.show()\n",
    "\n",
    "plt.plot(range(len(valid_tp)), valid_tp, label=\"valid tp\", color=\"navy\")\n",
    "plt.plot(range(len(valid_tn)), valid_tn, label=\"valid tn\", color=\"red\")\n",
    "plt.legend()\n",
    "plt.title(\"True positives and True Negatives\")\n",
    "plt.show()\n"
   ]
  }
 ],
 "metadata": {
  "kernelspec": {
   "display_name": "Python 3",
   "language": "python",
   "name": "python3"
  },
  "language_info": {
   "codemirror_mode": {
    "name": "ipython",
    "version": 3
   },
   "file_extension": ".py",
   "mimetype": "text/x-python",
   "name": "python",
   "nbconvert_exporter": "python",
   "pygments_lexer": "ipython3",
   "version": "3.6.10"
  }
 },
 "nbformat": 4,
 "nbformat_minor": 2
}
