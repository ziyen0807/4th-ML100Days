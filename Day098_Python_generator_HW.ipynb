{
 "cells": [
  {
   "cell_type": "code",
   "execution_count": 110,
   "metadata": {},
   "outputs": [],
   "source": [
    "from keras.datasets import cifar10\n",
    "from keras import layers,models\n",
    "from keras.layers import Conv2D,Dense,MaxPooling2D,Flatten\n",
    "import keras\n",
    "import numpy as np"
   ]
  },
  {
   "cell_type": "code",
   "execution_count": 4,
   "metadata": {},
   "outputs": [],
   "source": [
    "import keras\n",
    "from keras.datasets import cifar10\n",
    "from keras.layers import Conv2D,MaxPooling2D,Flatten,Dense\n",
    "from keras import models\n",
    "import numpy as np"
   ]
  },
  {
   "cell_type": "code",
   "execution_count": 5,
   "metadata": {},
   "outputs": [],
   "source": [
    "import os\n",
    "os.environ[\"CUDA_VISIBLE_DEVICES\"] = '0'"
   ]
  },
  {
   "cell_type": "code",
   "execution_count": null,
   "metadata": {},
   "outputs": [],
   "source": []
  },
  {
   "cell_type": "code",
   "execution_count": 6,
   "metadata": {},
   "outputs": [
    {
     "name": "stdout",
     "output_type": "stream",
     "text": [
      "(50000, 32, 32, 3)\n",
      "(50000, 1)\n"
     ]
    }
   ],
   "source": [
    "(x_train_row,y_train_row),(x_test_row,y_test_row) = cifar10.load_data()\n",
    "print(x_train_row.shape)\n",
    "print(y_train_row.shape)\n"
   ]
  },
  {
   "cell_type": "code",
   "execution_count": 18,
   "metadata": {},
   "outputs": [],
   "source": [
    "def x_process(x,flatten = True):\n",
    "    x = x / 255\n",
    "    if flatten:\n",
    "        x = x.reshape(x.shape[0],-1)\n",
    "    print(x.shape)\n",
    "    return x\n",
    "\n",
    "def y_process(y):\n",
    "    y =keras.utils.to_categorical(y)\n",
    "    print(y.shape)\n",
    "    return y"
   ]
  },
  {
   "cell_type": "code",
   "execution_count": 21,
   "metadata": {},
   "outputs": [
    {
     "name": "stdout",
     "output_type": "stream",
     "text": [
      "(50000, 32, 32, 3)\n",
      "(10000, 32, 32, 3)\n",
      "(50000, 10)\n",
      "(10000, 10)\n",
      "[0. 0. 0. 1. 0. 0. 0. 0. 0. 0.]\n"
     ]
    }
   ],
   "source": [
    "x_train = x_process(x_train_row,False)\n",
    "x_test = x_process(y_train_row,False)\n",
    "y_train = y_process(x_test_row)\n",
    "y_test = y_process(y_test_row)\n",
    "print(y_test[0])"
   ]
  },
  {
   "cell_type": "code",
   "execution_count": 9,
   "metadata": {},
   "outputs": [
    {
     "data": {
      "text/plain": [
       "\"\\n    input_layer = keras.layers.Input([x_train.shape[-1]])\\n    for index,filter_num in enumerate(filters[1:]):\\n        if(index == 0):\\n            x = layers.Conv2D(filter_num,(3,3),activation = 'relu',padding = 'same')(input_layer)\\n        else:\\n            x = layers.Conv2D(filter_num,(3,3),activation = 'relu',padding = 'same')(x)\\n        x = layers.Maxpooling(2,2)(x)\\n        \\n    x = layers.Flatten()(x)\\n    x = layers.Dense(units = 512,activation = 'relu')(x)\\n    output_layer = layers.Dense(units = 10,activation = 'softmax')\\n    model = models.Model(inputs = input_layer,outputs = output_layer)\\n\""
      ]
     },
     "execution_count": 9,
     "metadata": {},
     "output_type": "execute_result"
    }
   ],
   "source": [
    "def build_Conv2D(filters = [64,64,64]):\n",
    "    model = keras.models.Sequential()\n",
    "    for filter_num in filters:\n",
    "        model.add(Conv2D(filter_num,(3,3),activation = 'relu',padding = 'same',input_shape = x_train.shape[1:]))\n",
    "        model.add(MaxPooling2D(2,2))\n",
    "    model.add(Flatten())\n",
    "    model.add(Dense(units = 512,activation = 'relu'))\n",
    "    model.add(Dense(units = 10,activation = 'softmax'))\n",
    "    return model\n",
    "    \n",
    "'''\n",
    "    input_layer = keras.layers.Input([x_train.shape[-1]])\n",
    "    for index,filter_num in enumerate(filters[1:]):\n",
    "        if(index == 0):\n",
    "            x = layers.Conv2D(filter_num,(3,3),activation = 'relu',padding = 'same')(input_layer)\n",
    "        else:\n",
    "            x = layers.Conv2D(filter_num,(3,3),activation = 'relu',padding = 'same')(x)\n",
    "        x = layers.Maxpooling(2,2)(x)\n",
    "        \n",
    "    x = layers.Flatten()(x)\n",
    "    x = layers.Dense(units = 512,activation = 'relu')(x)\n",
    "    output_layer = layers.Dense(units = 10,activation = 'softmax')\n",
    "    model = models.Model(inputs = input_layer,outputs = output_layer)\n",
    "'''"
   ]
  },
  {
   "cell_type": "code",
   "execution_count": 10,
   "metadata": {},
   "outputs": [],
   "source": [
    "def data_generator(train,test,batch_size = 32):\n",
    "    for index in range(0,len(train),batch_size):\n",
    "        image = train[index:index+batch_size]\n",
    "        label = test[index:index+batch_size]\n",
    "        yield image,label"
   ]
  },
  {
   "cell_type": "code",
   "execution_count": 24,
   "metadata": {},
   "outputs": [],
   "source": [
    "from keras.preprocessing.image import ImageDataGenerator\n",
    "Datagen = ImageDataGenerator()\n",
    "train_flow = Datagen.flow(x_train,y_train)\n",
    "test_flow = Datagen.flow(x_test,y_test)"
   ]
  },
  {
   "cell_type": "code",
   "execution_count": 25,
   "metadata": {},
   "outputs": [
    {
     "name": "stdout",
     "output_type": "stream",
     "text": [
      "Epoch 1/2\n",
      "1563/1562 [==============================] - 35s 22ms/step - loss: 1.8147 - accuracy: 0.3399 - val_loss: 1.3730 - val_accuracy: 0.4412\n",
      "Epoch 2/2\n",
      "1563/1562 [==============================] - 37s 23ms/step - loss: 1.3825 - accuracy: 0.5051 - val_loss: 1.1258 - val_accuracy: 0.5545\n"
     ]
    },
    {
     "data": {
      "text/plain": [
       "<keras.callbacks.callbacks.History at 0x159a13fada0>"
      ]
     },
     "execution_count": 25,
     "metadata": {},
     "output_type": "execute_result"
    }
   ],
   "source": [
    "model = build_Conv2D()\n",
    "optimizer = keras.optimizers.SGD(lr = 1e-3,momentum = .95,nesterov = True)\n",
    "model.compile(loss = 'categorical_crossentropy',metrics = ['accuracy'],optimizer = optimizer)\n",
    "steps = x_train.shape[0] / 32\n",
    "model.fit_generator(train_flow,\n",
    "                    steps_per_epoch = steps,\n",
    "                    epochs = 2,\n",
    "                   validation_data = test_flow,\n",
    "                   validation_steps = steps)"
   ]
  },
  {
   "cell_type": "code",
   "execution_count": null,
   "metadata": {},
   "outputs": [],
   "source": []
  }
 ],
 "metadata": {
  "kernelspec": {
   "display_name": "Python 3",
   "language": "python",
   "name": "python3"
  },
  "language_info": {
   "codemirror_mode": {
    "name": "ipython",
    "version": 3
   },
   "file_extension": ".py",
   "mimetype": "text/x-python",
   "name": "python",
   "nbconvert_exporter": "python",
   "pygments_lexer": "ipython3",
   "version": "3.6.10"
  }
 },
 "nbformat": 4,
 "nbformat_minor": 4
}
