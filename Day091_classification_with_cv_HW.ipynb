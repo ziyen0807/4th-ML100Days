{
 "cells": [
  {
   "cell_type": "markdown",
   "metadata": {},
   "source": [
    "## 作業目標\n",
    "* 嘗試比較用 color histogram 和 HOG 特徵來訓練的 SVM 分類器在 cifar10 training 和 testing data 上準確度的差別"
   ]
  },
  {
   "cell_type": "code",
   "execution_count": 1,
   "metadata": {},
   "outputs": [
    {
     "name": "stderr",
     "output_type": "stream",
     "text": [
      "Using TensorFlow backend.\n"
     ]
    }
   ],
   "source": [
    "import os\n",
    "import keras\n",
    "os.environ[\"CUDA_VISIBLE_DEVICES\"] = \"\" # 使用 CPU\n",
    "\n",
    "import numpy as np\n",
    "import cv2 # 載入 cv2 套件\n",
    "import matplotlib.pyplot as plt\n",
    "\n",
    "train, test = keras.datasets.cifar10.load_data()"
   ]
  },
  {
   "cell_type": "code",
   "execution_count": 55,
   "metadata": {},
   "outputs": [
    {
     "name": "stdout",
     "output_type": "stream",
     "text": [
      "(50000, 32, 32, 3) (50000, 1)\n"
     ]
    }
   ],
   "source": [
    "x_train, y_train = train\n",
    "x_test, y_test = test\n",
    "y_train = y_train.astype(int)\n",
    "y_test = y_test.astype(int)\n",
    "print(x_train.shape,y_train.shape)"
   ]
  },
  {
   "cell_type": "markdown",
   "metadata": {},
   "source": [
    "#### 產生直方圖特徵的訓練資料"
   ]
  },
  {
   "cell_type": "code",
   "execution_count": 28,
   "metadata": {},
   "outputs": [],
   "source": [
    "x_train_histogram = []\n",
    "x_test_histogram = []\n",
    "\n",
    "# 對於所有訓練資料\n",
    "for i in range(len(x_train)):\n",
    "    chans = cv2.split(x_train[i]) # 把圖像的 3 個 channel 切分出來\n",
    "    # 對於所有 channel\n",
    "    hist_feature = []\n",
    "    for chan in chans:\n",
    "        # 計算該 channel 的直方圖\n",
    "        hist = cv2.calcHist([chan], [0], None, [16], [0, 256]) # 切成 16 個 bin\n",
    "        hist_feature.extend(hist.flatten())\n",
    "    # 把計算的直方圖特徵收集起來\n",
    "    x_train_histogram.append(hist_feature)\n",
    "    \n",
    "# 對於所有測試資料也做一樣的處理\n",
    "for i in range(len(x_test)):\n",
    "    chans = cv2.split(x_test[i]) # 把圖像的 3 個 channel 切分出來\n",
    "    # 對於所有 channel\n",
    "    hist_feature = []\n",
    "    for chan in chans:\n",
    "        # 計算該 channel 的直方圖\n",
    "        hist = cv2.calcHist([chan], [0], None, [16], [0, 256]) # 切成 16 個 bin\n",
    "        hist_feature.extend(hist.flatten())\n",
    "    x_test_histogram.append(hist_feature)\n",
    "\n",
    "x_train_histogram = np.array(x_train_histogram)\n",
    "x_test_histogram = np.array(x_test_histogram)\n"
   ]
  },
  {
   "cell_type": "code",
   "execution_count": 38,
   "metadata": {},
   "outputs": [
    {
     "data": {
      "text/plain": [
       "(50000, 32, 32, 3)"
      ]
     },
     "execution_count": 38,
     "metadata": {},
     "output_type": "execute_result"
    }
   ],
   "source": []
  },
  {
   "cell_type": "markdown",
   "metadata": {},
   "source": [
    "#### 產生 HOG 特徵的訓練資料\n",
    "* HOG 特徵通過計算和統計圖像局部區域的梯度方向直方圖來構建特徵，具體細節不在我們涵蓋的範圍裡面，有興趣的同學請參考[補充資料](https://www.cnblogs.com/zyly/p/9651261.html)哦"
   ]
  },
  {
   "cell_type": "code",
   "execution_count": 14,
   "metadata": {},
   "outputs": [],
   "source": [
    "# SZ=20\n",
    "bin_n = 16 # Number of bins\n",
    "\n",
    "def hog(img):\n",
    "    img = cv2.cvtColor(img, cv2.COLOR_RGB2GRAY)\n",
    "    gx = cv2.Sobel(img, cv2.CV_32F, 1, 0)\n",
    "    gy = cv2.Sobel(img, cv2.CV_32F, 0, 1)\n",
    "    mag, ang = cv2.cartToPolar(gx, gy)\n",
    "    bins = np.int32(bin_n*ang/(2*np.pi))    # quantizing binvalues in (0...16)\n",
    "    bin_cells = bins[:10,:10], bins[10:,:10], bins[:10,10:], bins[10:,10:]\n",
    "    mag_cells = mag[:10,:10], mag[10:,:10], mag[:10,10:], mag[10:,10:]\n",
    "    hists = [np.bincount(b.ravel(), m.ravel(), bin_n) for b, m in zip(bin_cells, mag_cells)]\n",
    "    hist = np.hstack(hists)     # hist is a 64 bit vector\n",
    "    return hist.astype(np.float32)\n",
    "\n",
    "x_train_hog = np.array([hog(x) for x in x_train])\n",
    "x_test_hog = np.array([hog(x) for x in x_test])"
   ]
  },
  {
   "cell_type": "code",
   "execution_count": 16,
   "metadata": {},
   "outputs": [
    {
     "data": {
      "text/plain": [
       "50000"
      ]
     },
     "execution_count": 16,
     "metadata": {},
     "output_type": "execute_result"
    }
   ],
   "source": [
    "len(x_train_histogram)"
   ]
  },
  {
   "cell_type": "markdown",
   "metadata": {},
   "source": [
    "#### SVM model\n",
    "* SVM 是機器學習中一個經典的分類算法，具體細節有興趣可以參考 [該知乎上的解釋](https://www.zhihu.com/question/21094489)，我們這裡直接調用 opencv 中實現好的函數"
   ]
  },
  {
   "cell_type": "markdown",
   "metadata": {},
   "source": [
    "#### 用 histogram 特徵訓練 SVM 模型\n",
    "* 訓練過程可能會花點時間，請等他一下"
   ]
  },
  {
   "cell_type": "code",
   "execution_count": 39,
   "metadata": {},
   "outputs": [],
   "source": [
    "SVM_hist = cv2.ml.SVM_create()\n",
    "SVM_hist.setKernel(cv2.ml.SVM_LINEAR)\n",
    "SVM_hist.setGamma(5.383)\n",
    "SVM_hist.setType(cv2.ml.SVM_C_SVC)\n",
    "SVM_hist.setC(2.67)\n",
    "\n",
    "#training\n",
    "SVM_hist.train(x_train_histogram, cv2.ml.ROW_SAMPLE, y_train)\n",
    "\n",
    "# prediction\n",
    "_, y_hist_train = SVM_hist.predict(x_train_histogram)\n",
    "_, y_hist_test = SVM_hist.predict(x_test_histogram)"
   ]
  },
  {
   "cell_type": "markdown",
   "metadata": {},
   "source": [
    "#### 用 HOG 特徵訓練 SVM 模型\n",
    "* 訓練過程可能會花點時間，請等他一下"
   ]
  },
  {
   "cell_type": "code",
   "execution_count": 40,
   "metadata": {},
   "outputs": [],
   "source": [
    "SVM_hog = cv2.ml.SVM_create()\n",
    "SVM_hog.setKernel(cv2.ml.SVM_LINEAR)\n",
    "SVM_hog.setGamma(5.383)\n",
    "SVM_hog.setType(cv2.ml.SVM_C_SVC)\n",
    "SVM_hog.setC(2.67)\n",
    "\n",
    "#training\n",
    "SVM_hog.train(x_train_hog, cv2.ml.ROW_SAMPLE, y_train)\n",
    "\n",
    "# prediction\n",
    "_, y_hog_train = SVM_hog.predict(x_train_hog)\n",
    "_, y_hog_test = SVM_hog.predict(x_test_hog)"
   ]
  },
  {
   "cell_type": "code",
   "execution_count": 85,
   "metadata": {},
   "outputs": [
    {
     "name": "stdout",
     "output_type": "stream",
     "text": [
      "7423\n",
      "1448\n",
      "0\n"
     ]
    },
    {
     "name": "stderr",
     "output_type": "stream",
     "text": [
      "C:\\Users\\88698\\anaconda3\\envs\\python36\\lib\\site-packages\\ipykernel_launcher.py:4: DeprecationWarning: elementwise comparison failed; this will raise an error in the future.\n",
      "  after removing the cwd from sys.path.\n"
     ]
    },
    {
     "data": {
      "image/png": "[encoded data removed]",
      "text/plain": [
       "<Figure size 432x288 with 1 Axes>"
      ]
     },
     "metadata": {
      "needs_background": "light"
     },
     "output_type": "display_data"
    }
   ],
   "source": [
    "hist_train_true_num = len(y_hist_train[y_hist_train == y_train])\n",
    "hist_test_true_num = len(y_hist_test[y_hist_test == y_test])\n",
    "hog_train_true_num = len(y_hog_train[y_hog_train == y_train])\n",
    "hog_test_true_num = len(y_hog_test[y_hog_test == y_test])\n",
    "print(hist_train_true_num)\n",
    "print(hist_test_true_num)\n",
    "print(hog_test_true_num)\n",
    "plt.bar(['train','test'],[hog_train_true_num,hog_test_true_num],color = 'g')\n",
    "plt.bar(['train','test'],[hist_train_true_num,hist_test_true_num], color = 'r')\n",
    "plt.show()"
   ]
  }
 ],
 "metadata": {
  "kernelspec": {
   "display_name": "Python 3",
   "language": "python",
   "name": "python3"
  },
  "language_info": {
   "codemirror_mode": {
    "name": "ipython",
    "version": 3
   },
   "file_extension": ".py",
   "mimetype": "text/x-python",
   "name": "python",
   "nbconvert_exporter": "python",
   "pygments_lexer": "ipython3",
   "version": "3.6.10"
  }
 },
 "nbformat": 4,
 "nbformat_minor": 2
}
