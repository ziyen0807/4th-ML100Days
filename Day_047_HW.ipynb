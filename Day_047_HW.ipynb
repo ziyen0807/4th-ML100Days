{
 "cells": [
  {
   "cell_type": "markdown",
   "metadata": {},
   "source": [
    "## [作業重點]\n",
    "了解如何使用 Sklearn 中的 hyper-parameter search 找出最佳的超參數"
   ]
  },
  {
   "cell_type": "markdown",
   "metadata": {},
   "source": [
    "### 作業\n",
    "請使用不同的資料集，並使用 hyper-parameter search 的方式，看能不能找出最佳的超參數組合"
   ]
  },
  {
   "cell_type": "code",
   "execution_count": 13,
   "metadata": {},
   "outputs": [
    {
     "name": "stdout",
     "output_type": "stream",
     "text": [
      "[2 4 6 8]\n",
      "[ 5 15 25 35 45]\n",
      "[0.01 0.02 0.03 0.04 0.05 0.06 0.07 0.08 0.09]\n",
      "[10 30]\n",
      "Fitting 5 folds for each of 360 candidates, totalling 1800 fits\n"
     ]
    },
    {
     "name": "stderr",
     "output_type": "stream",
     "text": [
      "[Parallel(n_jobs=-1)]: Using backend LokyBackend with 4 concurrent workers.\n",
      "[Parallel(n_jobs=-1)]: Done 200 tasks      | elapsed:    1.2s\n",
      "[Parallel(n_jobs=-1)]: Done 1400 tasks      | elapsed:    8.0s\n",
      "[Parallel(n_jobs=-1)]: Done 1800 out of 1800 | elapsed:   10.2s finished\n"
     ]
    }
   ],
   "source": [
    "from sklearn.model_selection import train_test_split,KFold,GridSearchCV\n",
    "from sklearn.ensemble import GradientBoostingClassifier\n",
    "from sklearn import metrics,datasets\n",
    "import numpy as np\n",
    "\n",
    "iris = datasets.load_iris()\n",
    "x_train,x_test,y_train,y_test = train_test_split(iris.data,iris.target,test_size = .25,random_state = 1)\n",
    "\n",
    "n_estimators = np.arange(2,10,2)\n",
    "print(n_estimators)\n",
    "max_depth = np.arange(5,50,10)\n",
    "print(max_depth)\n",
    "learning_rate = np.arange(.01,.1,.01)\n",
    "print(learning_rate)\n",
    "min_samples_split = np.arange(10,50,20)\n",
    "print(min_samples_split)\n",
    "\n",
    "clf = GradientBoostingClassifier()\n",
    "\n",
    "param_grid = dict({'n_estimators' : n_estimators,'max_depth': max_depth,'min_samples_split':min_samples_split,'learning_rate': learning_rate})\n",
    "grid_search = GridSearchCV(clf,param_grid,scoring = 'accuracy',n_jobs = -1,verbose = 1)\n",
    "\n",
    "grid_search_result = grid_search.fit(x_train,y_train)"
   ]
  },
  {
   "cell_type": "code",
   "execution_count": 14,
   "metadata": {},
   "outputs": [
    {
     "name": "stdout",
     "output_type": "stream",
     "text": [
      "best_score:0.9466403162055336\n",
      "best_params:{'learning_rate': 0.02, 'max_depth': 5, 'min_samples_split': 10, 'n_estimators': 6}\n"
     ]
    }
   ],
   "source": [
    "print(f\"best_score:{grid_search_result.best_score_}\")\n",
    "print(f\"best_params:{grid_search_result.best_params_}\")"
   ]
  },
  {
   "cell_type": "code",
   "execution_count": 15,
   "metadata": {},
   "outputs": [
    {
     "name": "stdout",
     "output_type": "stream",
     "text": [
      "mean_squared_error:0.9736842105263158\n"
     ]
    }
   ],
   "source": [
    "#normal_form\n",
    "\n",
    "clf.fit(x_train,y_train)\n",
    "predict_y = clf.predict(x_test)\n",
    "\n",
    "print(f\"mean_squared_error:{metrics.accuracy_score(predict_y,y_test)}\")"
   ]
  },
  {
   "cell_type": "code",
   "execution_count": 16,
   "metadata": {},
   "outputs": [
    {
     "name": "stdout",
     "output_type": "stream",
     "text": [
      "accuracy_score:0.9736842105263158\n"
     ]
    }
   ],
   "source": [
    "#best_params\n",
    "\n",
    "best_clf = GradientBoostingClassifier(n_estimators = grid_search_result.best_params_['n_estimators'],\n",
    "                                     max_depth = grid_search_result.best_params_['max_depth'],\n",
    "                                     learning_rate = grid_search_result.best_params_['learning_rate'],\n",
    "                                     min_samples_split = grid_search_result.best_params_['min_samples_split'])\n",
    "best_clf.fit(x_train,y_train)\n",
    "predict_y_fixed = best_clf.predict(x_test)\n",
    "\n",
    "print(f\"accuracy_score:{metrics.accuracy_score(predict_y_fixed,y_test)}\")"
   ]
  }
 ],
 "metadata": {
  "kernelspec": {
   "display_name": "Python 3",
   "language": "python",
   "name": "python3"
  },
  "language_info": {
   "codemirror_mode": {
    "name": "ipython",
    "version": 3
   },
   "file_extension": ".py",
   "mimetype": "text/x-python",
   "name": "python",
   "nbconvert_exporter": "python",
   "pygments_lexer": "ipython3",
   "version": "3.8.5"
  }
 },
 "nbformat": 4,
 "nbformat_minor": 2
}
