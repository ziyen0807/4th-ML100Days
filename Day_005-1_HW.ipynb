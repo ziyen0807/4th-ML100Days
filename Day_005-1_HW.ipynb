{
 "cells": [
  {
   "cell_type": "code",
   "execution_count": 19,
   "metadata": {},
   "outputs": [
    {
     "name": "stdout",
     "output_type": "stream",
     "text": [
      "     city  local\n",
      "0  Taiwan  26515\n",
      "1   Korea  22911\n",
      "2   Japan  21629\n",
      "       國家     人口\n",
      "0  Taiwan  26515\n",
      "1   Korea  22911\n",
      "2   Japan  21629\n"
     ]
    }
   ],
   "source": [
    "import pandas as pd\n",
    "import numpy as np\n",
    "import random\n",
    "\n",
    "cities = ['Japan','Taiwan','Korea']\n",
    "a = random.randint(20000,30000)\n",
    "b = random.randint(20000,30000)\n",
    "c = random.randint(20000,30000)\n",
    "\n",
    "if (a<b):\n",
    "    d = a\n",
    "    a = b\n",
    "    b = d\n",
    "    x = cities[0]\n",
    "    cities[0] = cities[1]\n",
    "    cities[1] = x\n",
    "    if(b<c):\n",
    "        d = b\n",
    "        b = c\n",
    "        c = d\n",
    "        x = cities[1]\n",
    "        cities[1] = cities[2]\n",
    "        cities[2] = x    \n",
    "else:\n",
    "    if(b<c):\n",
    "        d = b\n",
    "        b = c\n",
    "        c = d\n",
    "        x = cities[1]\n",
    "        cities[1] = cities[2]\n",
    "        cities[2] = x\n",
    "local = [a,b,c]\n",
    "#list_labels = ['city','local']\n",
    "#list_cols = [cities,local]\n",
    "\n",
    "#zipped = list(zip(list_labels,list_cols))\n",
    "#visitors_2 = pd.DataFrame(dict(zipped))\n",
    "#print(visitors_2)\n",
    "\n",
    "data = {'國家':cities,\n",
    "       '人口':local}\n",
    "enddata = pd.DataFrame(data)\n",
    "print(enddata)"
   ]
  },
  {
   "cell_type": "code",
   "execution_count": null,
   "metadata": {},
   "outputs": [],
   "source": []
  },
  {
   "cell_type": "code",
   "execution_count": null,
   "metadata": {},
   "outputs": [],
   "source": []
  }
 ],
 "metadata": {
  "kernelspec": {
   "display_name": "Python 3",
   "language": "python",
   "name": "python3"
  },
  "language_info": {
   "codemirror_mode": {
    "name": "ipython",
    "version": 3
   },
   "file_extension": ".py",
   "mimetype": "text/x-python",
   "name": "python",
   "nbconvert_exporter": "python",
   "pygments_lexer": "ipython3",
   "version": "3.7.4"
  }
 },
 "nbformat": 4,
 "nbformat_minor": 2
}
